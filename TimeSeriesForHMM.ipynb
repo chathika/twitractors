{
 "cells": [
  {
   "cell_type": "code",
   "execution_count": 1,
   "metadata": {},
   "outputs": [],
   "source": [
    "import pandas as pd\n",
    "import numpy as np"
   ]
  },
  {
   "cell_type": "code",
   "execution_count": 2,
   "metadata": {},
   "outputs": [],
   "source": [
    "file = pd.read_csv('sentiment_timeseries.csv', header=1, names=[\"timestamp\",\"polarity\",\"subjectivity\"])"
   ]
  },
  {
   "cell_type": "code",
   "execution_count": 3,
   "metadata": {},
   "outputs": [],
   "source": [
    "out = open(\"polarity_series.txt\", \"w\")\n",
    "out.write('385040\\n')\n",
    "for polarity_score in file[\"polarity\"]:\n",
    "    out.write(str(polarity_score) + \",\")\n",
    "    out.flush()\n",
    "out.close()"
   ]
  },
  {
   "cell_type": "code",
   "execution_count": 4,
   "metadata": {},
   "outputs": [],
   "source": [
    "out2 = open(\"subjectivity_series.txt\", \"w\")\n",
    "out2.write('385040\\n')\n",
    "for subj_score in file[\"subjectivity\"]:\n",
    "    out2.write(str(subj_score) + \",\")\n",
    "    out2.flush()\n",
    "out2.close()"
   ]
  },
  {
   "cell_type": "code",
   "execution_count": null,
   "metadata": {},
   "outputs": [],
   "source": []
  }
 ],
 "metadata": {
  "kernelspec": {
   "display_name": "Python 3",
   "language": "python",
   "name": "python3"
  },
  "language_info": {
   "codemirror_mode": {
    "name": "ipython",
    "version": 3
   },
   "file_extension": ".py",
   "mimetype": "text/x-python",
   "name": "python",
   "nbconvert_exporter": "python",
   "pygments_lexer": "ipython3",
   "version": "3.6.5"
  }
 },
 "nbformat": 4,
 "nbformat_minor": 2
}
