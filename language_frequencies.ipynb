{
 "cells": [
  {
   "cell_type": "code",
   "execution_count": 99,
   "metadata": {
    "collapsed": false
   },
   "outputs": [],
   "source": [
    "from langdetect import detect\n",
    "import pandas as pd\n",
    "parse_dates = ['time']\n",
    "all_data = pd.read_csv('text_location_timeseries.csv', parse_dates = parse_dates, low_memory = False)\n",
    "\n",
    "texts = all_data['text']\n",
    "\n",
    "dectected_languages = []\n",
    "for text in texts:\n",
    "    try:\n",
    "        language = detect(text)\n",
    "    except:\n",
    "        language = '?'\n",
    "    dectected_languages.append(language)\n"
   ]
  },
  {
   "cell_type": "code",
   "execution_count": 100,
   "metadata": {
    "collapsed": true
   },
   "outputs": [],
   "source": [
    "# get frequency dictionaries for languages\n",
    "\n",
    "from collections import Counter\n",
    "\n",
    "specified_languages_dict = Counter(all_data['lang'])\n",
    "detected_languages_dict = Counter(dectected_languages)\n"
   ]
  },
  {
   "cell_type": "code",
   "execution_count": 101,
   "metadata": {
    "collapsed": false
   },
   "outputs": [],
   "source": [
    "# exclude languages from language frequency dictionary that appear less often than cutoff\n",
    "\n",
    "def filteringLangDict(lang_dict, cutoff):\n",
    "    filtered_dict = {}\n",
    "    for key in lang_dict.keys():\n",
    "        if lang_dict[key] > cutoff:\n",
    "            filtered_dict[key] = lang_dict[key]\n",
    "    return filtered_dict\n"
   ]
  },
  {
   "cell_type": "code",
   "execution_count": 106,
   "metadata": {
    "collapsed": false
   },
   "outputs": [
    {
     "data": {
      "image/png": "[encoded data removed]",
      "text/plain": [
       "<matplotlib.figure.Figure at 0x7f400843e2b0>"
      ]
     },
     "metadata": {},
     "output_type": "display_data"
    },
    {
     "data": {
      "image/png": "[encoded data removed]",
      "text/plain": [
       "<matplotlib.figure.Figure at 0x7f400843ea58>"
      ]
     },
     "metadata": {},
     "output_type": "display_data"
    }
   ],
   "source": [
    "\n",
    "fig_path_detected_c = '/home/maria/Work/csss/projects/twitter/pictures/language_detection_detected_cutoff.pdf'\n",
    "fig_path_specified_c = '/home/maria/Work/csss/projects/twitter/pictures/language_detection_twitter_cutoff.pdf'\n",
    "\n",
    "test = plotLanguageHistiogram(filteringLangDict(detected_languages_dict,1000),fig_path_detected_c)\n",
    "test = plotLanguageHistiogram(filteringLangDict(specified_languages_dict,1000),fig_path_specified_c)\n"
   ]
  },
  {
   "cell_type": "code",
   "execution_count": 103,
   "metadata": {
    "collapsed": false
   },
   "outputs": [],
   "source": [
    "%matplotlib inline\n",
    "\n",
    "import matplotlib.pyplot as plt\n",
    "import matplotlib.ticker as mtick\n",
    "\n",
    "def plotLanguageHistiogram(lang_dict, fig_path):\n",
    "    \n",
    "    tableau20 = [(31, 119, 180), (174, 199, 232), (255, 127, 14), (255, 187, 120),   \n",
    "                (44, 160, 44), (152, 223, 138), (214, 39, 40), (255, 152, 150),   \n",
    "                (148, 103, 189), (197, 176, 213), (140, 86, 75), (196, 156, 148),   \n",
    "                (227, 119, 194), (247, 182, 210), (127, 127, 127), (199, 199, 199),   \n",
    "                (188, 189, 34), (219, 219, 141), (23, 190, 207), (158, 218, 229)]\n",
    "    \n",
    "    for i in range(len(tableau20)):   \n",
    "        r, g, b = tableau20[i]   \n",
    "        tableau20[i] = (r / 255., g / 255., b / 255.)\n",
    "\n",
    "    plt.figure(figsize=(0.5*len(lang_dict.keys()), 4))\n",
    "    ax = plt.subplot(111)\n",
    "    ax.get_xaxis().tick_bottom()   \n",
    "    ax.get_yaxis().tick_left()\n",
    "    ax.yaxis.set_tick_params(width=1,length=3)\n",
    "    ax.xaxis.set_tick_params(width=1,length=3)\n",
    "    ax.spines[\"top\"].set_visible(False)   \n",
    "    ax.spines[\"bottom\"].set_visible(False)   \n",
    "    ax.spines[\"right\"].set_visible(False)   \n",
    "    ax.spines[\"left\"].set_visible(False)  \n",
    "    plt.ylim(-100, 230000)\n",
    "\n",
    "    plt.bar(range(len(lang_dict)), lang_dict.values(), align='center')\n",
    "    plt.xticks(range(len(lang_dict)), list(lang_dict.keys()), fontsize=12)\n",
    "\n",
    "\n",
    "    #fmt = '%.0f%%' # Format you want the ticks, e.g. '40%'\n",
    "    #fmt = '%.0f' # Format you want the ticks, e.g. '40%'\n",
    "\n",
    "    #yticks = mtick.FormatStrFormatter(fmt)\n",
    "    #ax.yaxis.set_major_formatter(yticks)\n",
    "\n",
    "    ax.set_xlabel('language', fontsize=15)\n",
    "    ax.set_ylabel('# tweets', fontsize=15)\n",
    "\n",
    "    plt.savefig(fig_path, bbox_inches=\"tight\") \n"
   ]
  },
  {
   "cell_type": "code",
   "execution_count": null,
   "metadata": {
    "collapsed": true
   },
   "outputs": [],
   "source": []
  }
 ],
 "metadata": {
  "kernelspec": {
   "display_name": "Python 3",
   "language": "python",
   "name": "python3"
  },
  "language_info": {
   "codemirror_mode": {
    "name": "ipython",
    "version": 3
   },
   "file_extension": ".py",
   "mimetype": "text/x-python",
   "name": "python",
   "nbconvert_exporter": "python",
   "pygments_lexer": "ipython3",
   "version": "3.6.3"
  }
 },
 "nbformat": 4,
 "nbformat_minor": 2
}
