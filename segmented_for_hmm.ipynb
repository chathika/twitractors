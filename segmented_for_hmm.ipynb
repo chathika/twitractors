{
 "cells": [
  {
   "cell_type": "code",
   "execution_count": 1,
   "metadata": {},
   "outputs": [],
   "source": [
    "import pandas as pd\n",
    "import numpy as np"
   ]
  },
  {
   "cell_type": "code",
   "execution_count": 8,
   "metadata": {},
   "outputs": [],
   "source": [
    "file = pd.read_csv('sentiment_timeseries.csv', header=1, names=[\"timestamp\",\"polarity\",\"subjectivity\"])"
   ]
  },
  {
   "cell_type": "code",
   "execution_count": 3,
   "metadata": {},
   "outputs": [
    {
     "data": {
      "text/plain": [
       "385041"
      ]
     },
     "execution_count": 3,
     "metadata": {},
     "output_type": "execute_result"
    }
   ],
   "source": [
    "len(file)"
   ]
  },
  {
   "cell_type": "code",
   "execution_count": 49,
   "metadata": {},
   "outputs": [
    {
     "data": {
      "text/plain": [
       "346000  346000  346000    2018-06-17 16:50:08.067740\n",
       "Name: timestamp, dtype: object"
      ]
     },
     "execution_count": 49,
     "metadata": {},
     "output_type": "execute_result"
    }
   ],
   "source": [
    "file['timestamp'][346000]"
   ]
  },
  {
   "cell_type": "code",
   "execution_count": 50,
   "metadata": {},
   "outputs": [],
   "source": [
    "#pre-game\n",
    "seg1 = file['polarity'][:60000]\n",
    "\n",
    "#game-begins even\n",
    "seg2 = file['polarity'][60000:143500]\n",
    "\n",
    "#mexico scores and germany is under pressure\n",
    "seg3 = file['polarity'][143500:173000]\n",
    "\n",
    "#half-time\n",
    "seg4 = file['polarity'][173000:220000]\n",
    "\n",
    "#seconf half\n",
    "seg5 = file['polarity'][220000:315000]\n",
    "\n",
    "#second half desperation\n",
    "seg6 = file['polarity'][315000:346000]\n",
    "\n",
    "#post game\n",
    "seg7 = file['polarity'][346000:]"
   ]
  },
  {
   "cell_type": "code",
   "execution_count": 58,
   "metadata": {},
   "outputs": [
    {
     "data": {
      "text/plain": [
       "1   1   1   1     0.000000\n",
       "2   2   2   2     0.200000\n",
       "3   3   3   3     0.250000\n",
       "4   4   4   4    -0.400000\n",
       "5   5   5   5     0.100000\n",
       "6   6   6   6     0.000000\n",
       "7   7   7   7     0.000000\n",
       "8   8   8   8     0.136364\n",
       "9   9   9   9     0.000000\n",
       "10  10  10  10    0.000000\n",
       "11  11  11  11    0.000000\n",
       "12  12  12  12    0.000000\n",
       "13  13  13  13    0.068182\n",
       "14  14  14  14    0.000000\n",
       "15  15  15  15    0.600000\n",
       "16  16  16  16    0.166667\n",
       "17  17  17  17   -0.166667\n",
       "18  18  18  18    0.000000\n",
       "19  19  19  19    0.000000\n",
       "20  20  20  20    0.000000\n",
       "Name: polarity, dtype: float64"
      ]
     },
     "execution_count": 58,
     "metadata": {},
     "output_type": "execute_result"
    }
   ],
   "source": [
    "seg1[:20]"
   ]
  },
  {
   "cell_type": "code",
   "execution_count": 54,
   "metadata": {},
   "outputs": [],
   "source": [
    "def to_discrete_alphabet(series):\n",
    "    disc_polarity = []\n",
    "    for polarity in series: \n",
    "        if polarity < -0.25:\n",
    "            disc_polarity.append('N')\n",
    "        elif polarity > 0.25:\n",
    "            disc_polarity.append('P')\n",
    "        else:\n",
    "            disc_polarity.append('W')\n",
    "    return disc_polarity"
   ]
  },
  {
   "cell_type": "code",
   "execution_count": 59,
   "metadata": {},
   "outputs": [],
   "source": [
    "data1 = to_discrete_alphabet(seg1)\n",
    "data2 = to_discrete_alphabet(seg2)\n",
    "data3 = to_discrete_alphabet(seg3)\n",
    "data4 = to_discrete_alphabet(seg4)\n",
    "data5 = to_discrete_alphabet(seg5)\n",
    "data6 = to_discrete_alphabet(seg6)\n",
    "data7 = to_discrete_alphabet(seg7)"
   ]
  },
  {
   "cell_type": "code",
   "execution_count": 79,
   "metadata": {},
   "outputs": [],
   "source": [
    "out1 = open(\"p_series_1.txt\", \"w\")\n",
    "out1.write('60000\\n')\n",
    "for polarity_score in data1:\n",
    "    out1.write(str(polarity_score))\n",
    "    out1.flush()\n",
    "out1.close()\n",
    "\n",
    "out2 = open(\"p_series_2.txt\", \"w\")\n",
    "out2.write('83500\\n')\n",
    "for polarity_score in data2:\n",
    "    out2.write(str(polarity_score))\n",
    "    out2.flush()\n",
    "out2.close()"
   ]
  },
  {
   "cell_type": "code",
   "execution_count": 80,
   "metadata": {},
   "outputs": [],
   "source": [
    "out3 = open(\"p_series_3.txt\", \"w\")\n",
    "out3.write('29500\\n')\n",
    "for polarity_score in data3:\n",
    "    out3.write(str(polarity_score))\n",
    "    out3.flush()\n",
    "out3.close()\n",
    "\n",
    "out4 = open(\"p_series_4.txt\", \"w\")\n",
    "out4.write('47000\\n')\n",
    "for polarity_score in data4:\n",
    "    out4.write(str(polarity_score))\n",
    "    out4.flush()\n",
    "out4.close()\n",
    "\n",
    "out5 = open(\"p_series_5.txt\", \"w\")\n",
    "out5.write('95000\\n')\n",
    "for polarity_score in data5:\n",
    "    out5.write(str(polarity_score))\n",
    "    out5.flush()\n",
    "out5.close()"
   ]
  },
  {
   "cell_type": "code",
   "execution_count": 76,
   "metadata": {},
   "outputs": [
    {
     "data": {
      "text/plain": [
       "39041"
      ]
     },
     "execution_count": 76,
     "metadata": {},
     "output_type": "execute_result"
    }
   ],
   "source": [
    "len(data7)"
   ]
  },
  {
   "cell_type": "code",
   "execution_count": 81,
   "metadata": {},
   "outputs": [],
   "source": [
    "out6 = open(\"p_series_6.txt\", \"w\")\n",
    "out6.write('31000\\n')\n",
    "for polarity_score in data6:\n",
    "    out6.write(str(polarity_score))\n",
    "    out6.flush()\n",
    "out6.close()\n",
    "\n",
    "out7 = open(\"p_series_7.txt\", \"w\")\n",
    "out7.write('39041\\n')\n",
    "for polarity_score in data7:\n",
    "    out7.write(str(polarity_score))\n",
    "    out7.flush()\n",
    "out7 .close()"
   ]
  },
  {
   "cell_type": "code",
   "execution_count": null,
   "metadata": {},
   "outputs": [],
   "source": []
  }
 ],
 "metadata": {
  "kernelspec": {
   "display_name": "Python 2",
   "language": "python",
   "name": "python2"
  },
  "language_info": {
   "codemirror_mode": {
    "name": "ipython",
    "version": 2
   },
   "file_extension": ".py",
   "mimetype": "text/x-python",
   "name": "python",
   "nbconvert_exporter": "python",
   "pygments_lexer": "ipython2",
   "version": "2.7.15"
  }
 },
 "nbformat": 4,
 "nbformat_minor": 2
}
