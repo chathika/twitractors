{
 "cells": [
  {
   "cell_type": "code",
   "execution_count": null,
   "metadata": {},
   "outputs": [],
   "source": [
    "<img src=\"files/image.png\">"
   ]
  },
  {
   "cell_type": "code",
   "execution_count": 1,
   "metadata": {},
   "outputs": [],
   "source": [
    "def delay_coordinate_embedding(data_file,tau,m):\n",
    "    time_series_data = np.array([])\n",
    "    for line in data_file:\n",
    "        time_series_data = np.append(time_series_data,float(line))\n",
    "    projection = np.array([])\n",
    "    for i in np.arange((m-1)*tau,time_series_data.shape[0],1):\n",
    "        delay_coordinate = np.array([])\n",
    "        for j in np.arange(0,m*tau,tau):\n",
    "            delay_coordinate = np.append(delay_coordinate,time_series_data[i-j])\n",
    "        if(i == (m-1)*tau):\n",
    "            projection = delay_coordinate\n",
    "        projection = np.column_stack((projection,delay_coordinate))\n",
    "    return projection"
   ]
  },
  {
   "cell_type": "markdown",
   "metadata": {},
   "source": [
    "* Used TISEAN to produce a surrogate timeseries of polarity scores.\n",
    "* False nearest neighbors gave best dimension as 5\n",
    "* mutual information gave best tau as 100"
   ]
  },
  {
   "cell_type": "code",
   "execution_count": null,
   "metadata": {},
   "outputs": [],
   "source": [
    "import numpy as np \n",
    "df = open(\"../twitractors/surrogate_polarity_germex.csv\",'r')\n",
    "embedding = delay_coordinate_embedding(df,5,100)\n",
    "plt.plot(embedding[0,:],embedding[1,:])\n",
    "plt.show()"
   ]
  },
  {
   "cell_type": "code",
   "execution_count": null,
   "metadata": {},
   "outputs": [],
   "source": []
  }
 ],
 "metadata": {
  "kernelspec": {
   "display_name": "Python 3",
   "language": "python",
   "name": "python3"
  },
  "language_info": {
   "codemirror_mode": {
    "name": "ipython",
    "version": 3
   },
   "file_extension": ".py",
   "mimetype": "text/x-python",
   "name": "python",
   "nbconvert_exporter": "python",
   "pygments_lexer": "ipython3",
   "version": "3.6.4"
  }
 },
 "nbformat": 4,
 "nbformat_minor": 2
}
