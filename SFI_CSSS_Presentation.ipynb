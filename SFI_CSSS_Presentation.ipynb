{
 "cells": [
  {
   "cell_type": "markdown",
   "metadata": {},
   "source": [
    "# Exploring Non-linear Dynamics on Twitter Conversation #"
   ]
  },
  {
   "cell_type": "markdown",
   "metadata": {},
   "source": [
    "#### Used the ```tweepy``` package to collect tweets on the Germany vs Mexico game on the 17th June, 2018. ####\n",
    "\n",
    "### Research Questions ####\n",
    "Given two adversarial groups of people in discussion on a topic of high personal importance, what dynamics can be observed when emotional perturbations are exogenously imposed on the population.\n",
    "\n",
    "#### hypothesis 1 ####\n",
    "We expect to see stickiness in expressed emotions following the occurrence of a high impact event, where the emotional effect lingers on after the event due to transience. \n",
    "\n",
    "#### hypothesis 2 ####\n",
    "We expect that this transience is culture dependent and will change according to the characteristics of the individuals.\n",
    "\n",
    "#### hypothesis 3 ####\n",
    "We expect to observe a duality in the activity regimes of users."
   ]
  },
  {
   "cell_type": "markdown",
   "metadata": {},
   "source": [
    "<img src=\"polarityseries.jpeg\">"
   ]
  },
  {
   "cell_type": "code",
   "execution_count": 1,
   "metadata": {},
   "outputs": [],
   "source": [
    "def delay_coordinate_embedding(data_file,tau,m):\n",
    "    time_series_data = np.array([])\n",
    "    for line in data_file:\n",
    "        time_series_data = np.append(time_series_data,float(line))\n",
    "    projection = np.array([])\n",
    "    for i in np.arange((m-1)*tau,time_series_data.shape[0],1):\n",
    "        delay_coordinate = np.array([])\n",
    "        for j in np.arange(0,m*tau,tau):\n",
    "            delay_coordinate = np.append(delay_coordinate,time_series_data[i-j])\n",
    "        if(i == (m-1)*tau):\n",
    "            projection = delay_coordinate\n",
    "        projection = np.column_stack((projection,delay_coordinate))\n",
    "    return projection"
   ]
  },
  {
   "cell_type": "markdown",
   "metadata": {},
   "source": [
    "* Used TISEAN to produce a surrogate timeseries of polarity scores.\n",
    "* False nearest neighbors gave best dimension as 5\n",
    "* mutual information gave best tau as 100"
   ]
  },
  {
   "cell_type": "code",
   "execution_count": 3,
   "metadata": {},
   "outputs": [
    {
     "ename": "NameError",
     "evalue": "name 'plt' is not defined",
     "output_type": "error",
     "traceback": [
      "\u001b[1;31m---------------------------------------------------------------------------\u001b[0m",
      "\u001b[1;31mNameError\u001b[0m                                 Traceback (most recent call last)",
      "\u001b[1;32m<ipython-input-3-7ee849922bfd>\u001b[0m in \u001b[0;36m<module>\u001b[1;34m()\u001b[0m\n\u001b[0;32m      2\u001b[0m \u001b[0mdf\u001b[0m \u001b[1;33m=\u001b[0m \u001b[0mopen\u001b[0m\u001b[1;33m(\u001b[0m\u001b[1;34m\"../twitractors/surrogate_polarity_germex.csv\"\u001b[0m\u001b[1;33m,\u001b[0m\u001b[1;34m'r'\u001b[0m\u001b[1;33m)\u001b[0m\u001b[1;33m\u001b[0m\u001b[0m\n\u001b[0;32m      3\u001b[0m \u001b[0membedding\u001b[0m \u001b[1;33m=\u001b[0m \u001b[0mdelay_coordinate_embedding\u001b[0m\u001b[1;33m(\u001b[0m\u001b[0mdf\u001b[0m\u001b[1;33m,\u001b[0m\u001b[1;36m5\u001b[0m\u001b[1;33m,\u001b[0m\u001b[1;36m100\u001b[0m\u001b[1;33m)\u001b[0m\u001b[1;33m\u001b[0m\u001b[0m\n\u001b[1;32m----> 4\u001b[1;33m \u001b[0mplt\u001b[0m\u001b[1;33m.\u001b[0m\u001b[0mplot\u001b[0m\u001b[1;33m(\u001b[0m\u001b[0membedding\u001b[0m\u001b[1;33m[\u001b[0m\u001b[1;36m0\u001b[0m\u001b[1;33m,\u001b[0m\u001b[1;33m:\u001b[0m\u001b[1;33m]\u001b[0m\u001b[1;33m,\u001b[0m\u001b[0membedding\u001b[0m\u001b[1;33m[\u001b[0m\u001b[1;36m1\u001b[0m\u001b[1;33m,\u001b[0m\u001b[1;33m:\u001b[0m\u001b[1;33m]\u001b[0m\u001b[1;33m)\u001b[0m\u001b[1;33m\u001b[0m\u001b[0m\n\u001b[0m\u001b[0;32m      5\u001b[0m \u001b[0mplt\u001b[0m\u001b[1;33m.\u001b[0m\u001b[0mshow\u001b[0m\u001b[1;33m(\u001b[0m\u001b[1;33m)\u001b[0m\u001b[1;33m\u001b[0m\u001b[0m\n",
      "\u001b[1;31mNameError\u001b[0m: name 'plt' is not defined"
     ]
    }
   ],
   "source": [
    "import numpy as np \n",
    "df = open(\"../twitractors/surrogate_polarity_germex.csv\",'r')\n",
    "embedding = delay_coordinate_embedding(df,5,100)\n",
    "plt.plot(embedding[0,:],embedding[1,:])\n",
    "plt.show()"
   ]
  },
  {
   "cell_type": "code",
   "execution_count": null,
   "metadata": {},
   "outputs": [],
   "source": [
    "%matplotlib inline\n",
    "\n",
    "import matplotlib.pyplot as plt\n",
    "import matplotlib.ticker as mtick\n",
    "\n",
    "def plotLanguageHistiogram(lang_dict, fig_path):\n",
    "    \n",
    "    tableau20 = [(31, 119, 180), (174, 199, 232), (255, 127, 14), (255, 187, 120),   \n",
    "                (44, 160, 44), (152, 223, 138), (214, 39, 40), (255, 152, 150),   \n",
    "                (148, 103, 189), (197, 176, 213), (140, 86, 75), (196, 156, 148),   \n",
    "                (227, 119, 194), (247, 182, 210), (127, 127, 127), (199, 199, 199),   \n",
    "                (188, 189, 34), (219, 219, 141), (23, 190, 207), (158, 218, 229)]\n",
    "    \n",
    "    for i in range(len(tableau20)):   \n",
    "        r, g, b = tableau20[i]   \n",
    "        tableau20[i] = (r / 255., g / 255., b / 255.)\n",
    "\n",
    "    plt.figure(figsize=(0.5*len(lang_dict.keys()), 4))\n",
    "    ax = plt.subplot(111)\n",
    "    ax.get_xaxis().tick_bottom()   \n",
    "    ax.get_yaxis().tick_left()\n",
    "    ax.yaxis.set_tick_params(width=1,length=3)\n",
    "    ax.xaxis.set_tick_params(width=1,length=3)\n",
    "    ax.spines[\"top\"].set_visible(False)   \n",
    "    ax.spines[\"bottom\"].set_visible(False)   \n",
    "    ax.spines[\"right\"].set_visible(False)   \n",
    "    ax.spines[\"left\"].set_visible(False)  \n",
    "    plt.ylim(-100, 230000)\n",
    "\n",
    "    plt.bar(range(len(lang_dict)), lang_dict.values(), align='center')\n",
    "    plt.xticks(range(len(lang_dict)), list(lang_dict.keys()), fontsize=12)\n",
    "\n",
    "\n",
    "    #fmt = '%.0f%%' # Format you want the ticks, e.g. '40%'\n",
    "    #fmt = '%.0f' # Format you want the ticks, e.g. '40%'\n",
    "\n",
    "    #yticks = mtick.FormatStrFormatter(fmt)\n",
    "    #ax.yaxis.set_major_formatter(yticks)\n",
    "\n",
    "    ax.set_xlabel('language', fontsize=15)\n",
    "    ax.set_ylabel('# tweets', fontsize=15)\n",
    "\n",
    "    plt.savefig(fig_path, bbox_inches=\"tight\")"
   ]
  },
  {
   "cell_type": "code",
   "execution_count": null,
   "metadata": {},
   "outputs": [],
   "source": [
    "from langdetect import detect\n",
    "import pandas as pd\n",
    "parse_dates = ['time']\n",
    "all_data = pd.read_csv('text_location_timeseries.csv', parse_dates = parse_dates, low_memory = False)\n",
    "\n",
    "texts = all_data['text']\n",
    "\n",
    "dectected_languages = []\n",
    "for text in texts:\n",
    "    try:\n",
    "        language = detect(text)\n",
    "    except:\n",
    "        language = '?'\n",
    "    dectected_languages.append(language)\n",
    "# get frequency dictionaries for languages\n",
    "\n",
    "from collections import Counter\n",
    "\n",
    "specified_languages_dict = Counter(all_data['lang'])\n",
    "detected_languages_dict = Counter(dectected_languages)\n",
    "# exclude languages from language frequency dictionary that appear less often than cutoff\n",
    "\n",
    "def filteringLangDict(lang_dict, cutoff):\n",
    "    filtered_dict = {}\n",
    "    for key in lang_dict.keys():\n",
    "        if lang_dict[key] > cutoff:\n",
    "            filtered_dict[key] = lang_dict[key]\n",
    "    return filtered_dict\n",
    "fig_path_detected_c = 'language_detection_detected_cutoff.jpeg'\n",
    "fig_path_specified_c = 'language_detection_twitter_cutoff.jpeg'\n",
    "\n",
    "test = plotLanguageHistiogram(filteringLangDict(detected_languages_dict,1000),fig_path_detected_c)\n",
    "test = plotLanguageHistiogram(filteringLangDict(specified_languages_dict,1000),fig_path_specified_c)\n"
   ]
  }
 ],
 "metadata": {
  "kernelspec": {
   "display_name": "Python 3",
   "language": "python",
   "name": "python3"
  },
  "language_info": {
   "codemirror_mode": {
    "name": "ipython",
    "version": 3
   },
   "file_extension": ".py",
   "mimetype": "text/x-python",
   "name": "python",
   "nbconvert_exporter": "python",
   "pygments_lexer": "ipython3",
   "version": "3.6.4"
  }
 },
 "nbformat": 4,
 "nbformat_minor": 2
}
