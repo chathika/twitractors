{
 "cells": [
  {
   "cell_type": "markdown",
   "metadata": {},
   "source": [
    "# Harry Twatter and the chalice of polarity"
   ]
  },
  {
   "cell_type": "markdown",
   "metadata": {},
   "source": [
    "<img src=\"polarityseries.jpeg\">"
   ]
  },
  {
   "cell_type": "markdown",
   "metadata": {},
   "source": [
    "## 1. The dataset"
   ]
  },
  {
   "cell_type": "code",
   "execution_count": 1,
   "metadata": {},
   "outputs": [],
   "source": [
    "def delay_coordinate_embedding(data_file,tau,m):\n",
    "    time_series_data = np.array([])\n",
    "    for line in data_file:\n",
    "        time_series_data = np.append(time_series_data,float(line))\n",
    "    projection = np.array([])\n",
    "    for i in np.arange((m-1)*tau,time_series_data.shape[0],1):\n",
    "        delay_coordinate = np.array([])\n",
    "        for j in np.arange(0,m*tau,tau):\n",
    "            delay_coordinate = np.append(delay_coordinate,time_series_data[i-j])\n",
    "        if(i == (m-1)*tau):\n",
    "            projection = delay_coordinate\n",
    "        projection = np.column_stack((projection,delay_coordinate))\n",
    "    return projection"
   ]
  },
  {
   "cell_type": "markdown",
   "metadata": {},
   "source": [
    "* Used TISEAN to produce a surrogate timeseries of polarity scores.\n",
    "* False nearest neighbors gave best dimension as 5\n",
    "* mutual information gave best tau as 100"
   ]
  },
  {
   "cell_type": "code",
   "execution_count": null,
   "metadata": {},
   "outputs": [],
   "source": [
    "import numpy as np \n",
    "df = open(\"../twitractors/surrogate_polarity_germex.csv\",'r')\n",
    "embedding = delay_coordinate_embedding(df,5,100)\n",
    "plt.plot(embedding[0,:],embedding[1,:])\n",
    "plt.show()"
   ]
  },
  {
   "cell_type": "code",
   "execution_count": null,
   "metadata": {},
   "outputs": [],
   "source": []
  },
  {
   "cell_type": "code",
   "execution_count": null,
   "metadata": {},
   "outputs": [],
   "source": []
  },
  {
   "cell_type": "code",
   "execution_count": null,
   "metadata": {},
   "outputs": [],
   "source": []
  },
  {
   "cell_type": "markdown",
   "metadata": {},
   "source": [
    "## 2. The questions"
   ]
  },
  {
   "cell_type": "code",
   "execution_count": null,
   "metadata": {},
   "outputs": [],
   "source": []
  },
  {
   "cell_type": "code",
   "execution_count": null,
   "metadata": {},
   "outputs": [],
   "source": []
  },
  {
   "cell_type": "markdown",
   "metadata": {},
   "source": [
    "## 3. The methods"
   ]
  },
  {
   "cell_type": "markdown",
   "metadata": {},
   "source": [
    "### 3.1 Sentiment Analysis"
   ]
  },
  {
   "cell_type": "markdown",
   "metadata": {},
   "source": [
    "### 3.2 Delayed Coordinate Embedding (a.k.a. throwing it at TISEAN)"
   ]
  },
  {
   "cell_type": "markdown",
   "metadata": {},
   "source": [
    "### 3.3 Modeling as a Hidden Markov Model (SFIHMM)\n",
    "\n",
    "##### Breaking the data into segments: \n",
    "\n",
    "* Pre-game\n",
    "* Beginning of the game to Mexico's goal\n",
    "* Mexico's goal to end of first half\n",
    "* Half-time\n",
    "* Beginning of half-time\n",
    "* First yellow card to end of game: aka desperation\n",
    "* Post-game\n",
    "\n",
    "##### Discretizing polarity scores\n",
    "\n"
   ]
  },
  {
   "cell_type": "code",
   "execution_count": 3,
   "metadata": {},
   "outputs": [],
   "source": [
    "#Take a time series of polarity and encode it into a three letter alphabet\n",
    "# p < -0.25  : 'N' Negative\n",
    "# -0.25 < p < 0.25 : 'W' Neutral\n",
    "# p > 0.25 : 'P' Positive\n",
    "def to_discrete_alphabet(series):\n",
    "    disc_polarity = []\n",
    "    for polarity in series: \n",
    "        if polarity < -0.25:\n",
    "            disc_polarity.append('N')\n",
    "        elif polarity > 0.25:\n",
    "            disc_polarity.append('P')\n",
    "        else:\n",
    "            disc_polarity.append('W')\n",
    "    return disc_polarity"
   ]
  },
  {
   "cell_type": "markdown",
   "metadata": {},
   "source": [
    "##### Running it through SFIHMM\n",
    "\n",
    "The datafile:"
   ]
  },
  {
   "cell_type": "markdown",
   "metadata": {},
   "source": [
    "<img src='figures/data_for_hmm.png' style=\"width:500px;height:300px;\">"
   ]
  },
  {
   "cell_type": "markdown",
   "metadata": {},
   "source": [
    "The run attempts:"
   ]
  },
  {
   "cell_type": "markdown",
   "metadata": {},
   "source": [
    "<img src='figures/attempt_at_hmm.png' style=\"width:500px;height:300px;\">"
   ]
  },
  {
   "cell_type": "markdown",
   "metadata": {},
   "source": [
    "## 4. Conclusions and future work"
   ]
  },
  {
   "cell_type": "code",
   "execution_count": null,
   "metadata": {},
   "outputs": [],
   "source": []
  },
  {
   "cell_type": "code",
   "execution_count": null,
   "metadata": {},
   "outputs": [],
   "source": []
  }
 ],
 "metadata": {
  "kernelspec": {
   "display_name": "Python 3",
   "language": "python",
   "name": "python3"
  },
  "language_info": {
   "codemirror_mode": {
    "name": "ipython",
    "version": 3
   },
   "file_extension": ".py",
   "mimetype": "text/x-python",
   "name": "python",
   "nbconvert_exporter": "python",
   "pygments_lexer": "ipython3",
   "version": "3.6.5"
  }
 },
 "nbformat": 4,
 "nbformat_minor": 2
}
